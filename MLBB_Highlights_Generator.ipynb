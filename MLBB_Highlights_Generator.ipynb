{
  "cells": [
    {
      "cell_type": "markdown",
      "metadata": {
        "id": "view-in-github",
        "colab_type": "text"
      },
      "source": [
        "<a href=\"https://colab.research.google.com/github/Luis-Pocholo-Caducio/MLBB_Highlights_Generator/blob/main/MLBB_Highlights_Generator.ipynb\" target=\"_parent\"><img src=\"https://colab.research.google.com/assets/colab-badge.svg\" alt=\"Open In Colab\"/></a>"
      ]
    },
    {
      "cell_type": "code",
      "execution_count": 1,
      "metadata": {
        "colab": {
          "base_uri": "https://localhost:8080/"
        },
        "id": "dUSyhpUdPVee",
        "outputId": "35fb933e-f6e9-4e6b-a759-72dd257e5701"
      },
      "outputs": [
        {
          "output_type": "stream",
          "name": "stdout",
          "text": [
            "Drive already mounted at /content/drive; to attempt to forcibly remount, call drive.mount(\"/content/drive\", force_remount=True).\n"
          ]
        }
      ],
      "source": [
        "from google.colab import drive\n",
        "drive.mount('/content/drive')"
      ]
    },
    {
      "cell_type": "code",
      "execution_count": 2,
      "metadata": {
        "id": "nNjcpx90PjMC"
      },
      "outputs": [],
      "source": [
        "%%capture\n",
        "\n",
        "!pip install pafy youtube-dl moviepy\n",
        "!pip install tensorflow\n",
        "!pip install keras\n",
        "!pip install cv2\n",
        "!pip install pygame\n",
        "!pip install moviepy"
      ]
    },
    {
      "cell_type": "code",
      "execution_count": 3,
      "metadata": {
        "id": "FJWUuJR4PlF_"
      },
      "outputs": [],
      "source": [
        "import os\n",
        "import cv2\n",
        "import pafy\n",
        "import math\n",
        "import random\n",
        "import numpy as np\n",
        "import datetime as dt\n",
        "import tensorflow as tf\n",
        "from collections import deque\n",
        "import matplotlib.pyplot as plt\n",
        "\n",
        "#from moviepy.editor import *\n",
        "%matplotlib inline\n",
        "\n",
        "from sklearn.model_selection import train_test_split\n",
        "\n",
        "from tensorflow.keras.layers import *\n",
        "from tensorflow.keras.models import Sequential\n",
        "from tensorflow.keras.utils import to_categorical\n",
        "from tensorflow.keras.callbacks import EarlyStopping\n",
        "from keras.utils import plot_model"
      ]
    },
    {
      "cell_type": "code",
      "execution_count": 4,
      "metadata": {
        "id": "A1TwEp-ePmhk"
      },
      "outputs": [],
      "source": [
        "seed_constant = 27\n",
        "np.random.seed(seed_constant)\n",
        "random.seed(seed_constant)\n",
        "tf.random.set_seed(seed_constant)"
      ]
    },
    {
      "cell_type": "code",
      "execution_count": 5,
      "metadata": {
        "id": "VcHUqFEDPpOf"
      },
      "outputs": [],
      "source": [
        "IMAGE_HEIGHT, IMAGE_WIDTH = 64, 64\n",
        "SEQUENCE_LENGTH = 7\n",
        "\n",
        "DATASET_DIR = \"/content/drive/MyDrive/mlbb dataset final\"\n",
        "CLASSES_LIST = [\"farming\", \"team fight\", \"game ending\", \"lord\", \"turtle\"]"
      ]
    },
    {
      "cell_type": "code",
      "execution_count": 6,
      "metadata": {
        "id": "RPrflwqTPrqa"
      },
      "outputs": [],
      "source": [
        "def frames_extraction(video_path):\n",
        "\n",
        "  frames_list = []\n",
        "  video_reader = cv2.VideoCapture(video_path)\n",
        "  video_frames_count = int(video_reader.get(cv2.CAP_PROP_FRAME_COUNT))\n",
        "  skip_frames_window = max(int(video_frames_count/SEQUENCE_LENGTH), 1)\n",
        "\n",
        "  for frame_counter in range(SEQUENCE_LENGTH):\n",
        "    video_reader.set(cv2.CAP_PROP_POS_FRAMES, frame_counter * skip_frames_window)\n",
        "    success, frame = video_reader.read()\n",
        "\n",
        "    if not success:\n",
        "      break\n",
        "\n",
        "    resized_frame = cv2.resize(frame, (IMAGE_HEIGHT, IMAGE_WIDTH))\n",
        "    normalized_frame = resized_frame / 255\n",
        "    frames_list.append(normalized_frame)\n",
        "\n",
        "  video_reader.release()\n",
        "\n",
        "  return frames_list"
      ]
    },
    {
      "cell_type": "code",
      "execution_count": 7,
      "metadata": {
        "id": "8DaUgi9dndwh"
      },
      "outputs": [],
      "source": [
        "def create_dataset():\n",
        "\n",
        "  features = []\n",
        "  labels = []\n",
        "  video_files_paths = []\n",
        "\n",
        "  for class_index, class_name in enumerate(CLASSES_LIST):\n",
        "    print(f'Extracting Data of Class: {class_name}')\n",
        "    files_list = os.listdir(os.path.join(DATASET_DIR, class_name))\n",
        "\n",
        "    for file_name in files_list:\n",
        "      video_file_path = os.path.join(DATASET_DIR, class_name, file_name)\n",
        "      frames = frames_extraction(video_file_path)\n",
        "\n",
        "      if len(frames) == SEQUENCE_LENGTH:\n",
        "        features.append(frames)\n",
        "        labels.append(class_index)\n",
        "        video_files_paths.append(video_file_path)\n",
        "\n",
        "  features = np.array(features)\n",
        "  labels = np.array(labels)\n",
        "\n",
        "  return features, labels, video_files_paths"
      ]
    },
    {
      "cell_type": "code",
      "execution_count": null,
      "metadata": {
        "colab": {
          "base_uri": "https://localhost:8080/"
        },
        "id": "47FvAVlLP1AD",
        "outputId": "8f57cd26-0214-4fe2-fbe0-1080038dd74d"
      },
      "outputs": [
        {
          "output_type": "stream",
          "name": "stdout",
          "text": [
            "Extracting Data of Class: farming\n",
            "Extracting Data of Class: team fight\n"
          ]
        }
      ],
      "source": [
        "# create the preprocessed dataset\n",
        "features, labels, video_files_paths = create_dataset()"
      ]
    },
    {
      "cell_type": "code",
      "execution_count": null,
      "metadata": {
        "id": "BWvs-_X2P6b_"
      },
      "outputs": [],
      "source": [
        "one_hot_encoded_labels = to_categorical(labels)"
      ]
    },
    {
      "cell_type": "code",
      "execution_count": null,
      "metadata": {
        "id": "ILp9VuHVP8px"
      },
      "outputs": [],
      "source": [
        "# split the data into train (75%) and Test Set (25%)\n",
        "features_train, features_test, labels_train, labels_test = train_test_split(features, one_hot_encoded_labels,\n",
        "                                                                           test_size = 0.25, shuffle = True,\n",
        "                                                                           random_state = seed_constant)"
      ]
    },
    {
      "cell_type": "code",
      "execution_count": null,
      "metadata": {
        "id": "E5ad2H7iP-Uy"
      },
      "outputs": [],
      "source": [
        "# CONSTRUCTING LRCN MODEL\n",
        "\n",
        "def create_LRCN_model():\n",
        "\n",
        "  model = Sequential()\n",
        "\n",
        "  model.add(TimeDistributed(Conv2D(16, (3,3), padding = 'same', activation = 'relu'),\n",
        "                            input_shape = (SEQUENCE_LENGTH, IMAGE_HEIGHT, IMAGE_WIDTH, 3)))\n",
        "\n",
        "  model.add(TimeDistributed(MaxPooling2D(4,4)))\n",
        "  model.add(TimeDistributed(Dropout(0.25)))\n",
        "\n",
        "  model.add(TimeDistributed(Conv2D(32, (3,3), padding = 'same', activation = 'relu')))\n",
        "  model.add(TimeDistributed(MaxPooling2D(4,4)))\n",
        "  model.add(TimeDistributed(Dropout(0.25)))\n",
        "\n",
        "  model.add(TimeDistributed(Conv2D(64, (3,3), padding = 'same', activation = 'relu')))\n",
        "  model.add(TimeDistributed(MaxPooling2D(2,2)))\n",
        "  model.add(TimeDistributed(Dropout(0.25)))\n",
        "\n",
        "  model.add(TimeDistributed(Conv2D(64, (3,3), padding = 'same', activation = 'relu')))\n",
        "  model.add(TimeDistributed(MaxPooling2D(2,2)))\n",
        "  #model.add(TimeDistributed(Dropout(0.25)))\n",
        "\n",
        "  model.add(TimeDistributed(Flatten()))\n",
        "\n",
        "  model.add(LSTM(32))\n",
        "\n",
        "  model.add(Dense(len(CLASSES_LIST), activation = 'softmax'))\n",
        "\n",
        "  model.summary()\n",
        "\n",
        "  return model"
      ]
    },
    {
      "cell_type": "code",
      "execution_count": null,
      "metadata": {
        "id": "NYs6-NhtQATz",
        "collapsed": true
      },
      "outputs": [],
      "source": [
        "LRCN_model = create_LRCN_model()\n",
        "\n",
        "print(\"Model created successfully\")"
      ]
    },
    {
      "cell_type": "code",
      "execution_count": null,
      "metadata": {
        "id": "13xY2EerQB2t"
      },
      "outputs": [],
      "source": [
        "plot_model(LRCN_model, to_file = 'LRCN_model_structure_plot.png', show_shapes = True, show_layer_names = True)"
      ]
    },
    {
      "cell_type": "code",
      "execution_count": null,
      "metadata": {
        "id": "Ygi701fCQDbB"
      },
      "outputs": [],
      "source": [
        "early_stopping_callback = EarlyStopping(monitor = 'val_loss', patience = 15, mode = 'min', restore_best_weights = True)\n",
        "\n",
        "LRCN_model.compile(loss = 'categorical_crossentropy', optimizer = 'Adam', metrics = [\"accuracy\"])\n",
        "\n",
        "LRCN_model_training_history = LRCN_model.fit(x = features_train, y = labels_train, epochs = 60, batch_size = 4,\n",
        "                                              shuffle = True, validation_split = 0.2, callbacks = [early_stopping_callback])"
      ]
    },
    {
      "cell_type": "code",
      "execution_count": null,
      "metadata": {
        "id": "VfPVEViNQFy9"
      },
      "outputs": [],
      "source": [
        "model_evaluation_history = LRCN_model.evaluate(features_test, labels_test)"
      ]
    },
    {
      "cell_type": "code",
      "execution_count": null,
      "metadata": {
        "id": "YMFoDjnSQHsr"
      },
      "outputs": [],
      "source": [
        "# Saving the Model\n",
        "\n",
        "model_evaluation_loss, model_evaluation_accuracy = model_evaluation_history\n",
        "\n",
        "date_time_format = '%Y_%m_%d__%H_%M_%S'\n",
        "current_date_time_dt = dt.datetime.now()\n",
        "current_date_time_string = dt.datetime.strftime(current_date_time_dt, date_time_format)\n",
        "\n",
        "model_file_name = f'LRCN_model__Date_Time){current_date_time_string}__Loss_{model_evaluation_loss}__Accuracy_{model_evaluation_accuracy}.h5'\n",
        "\n",
        "LRCN_model.save(model_file_name)"
      ]
    },
    {
      "cell_type": "code",
      "execution_count": null,
      "metadata": {
        "id": "lsqjnUTIQJUm"
      },
      "outputs": [],
      "source": [
        "# PLOTTING THE MODEL'S LOSS & ACCURACY CURVES\n",
        "\n",
        "def plot_metric(model_training_history, metric_name_1, metric_name_2, plot_name):\n",
        "\n",
        "  metric_value_1 = model_training_history.history[metric_name_1]\n",
        "  metric_value_2 = model_training_history.history[metric_name_2]\n",
        "\n",
        "  epochs = range(len(metric_value_1))\n",
        "\n",
        "  plt.plot(epochs, metric_value_1, 'blue', label = metric_name_1)\n",
        "  plt.plot(epochs, metric_value_2, 'red', label = metric_name_2)\n",
        "\n",
        "  plt.title(str(plot_name))\n",
        "\n",
        "  plt.legend()"
      ]
    },
    {
      "cell_type": "code",
      "execution_count": null,
      "metadata": {
        "id": "m1zLfkwiQLDU"
      },
      "outputs": [],
      "source": [
        "plot_metric(LRCN_model_training_history, 'loss', 'val_loss', 'Total Loss vs Total Validation Loss')"
      ]
    },
    {
      "cell_type": "code",
      "execution_count": null,
      "metadata": {
        "id": "KcdvWc0TQM0T"
      },
      "outputs": [],
      "source": [
        "plot_metric(LRCN_model_training_history, 'accuracy', 'val_accuracy', 'Total Accuracy vs Total Validation Accuracy')"
      ]
    },
    {
      "cell_type": "code",
      "execution_count": null,
      "metadata": {
        "id": "FIIG6om8QPCz",
        "collapsed": true
      },
      "outputs": [],
      "source": [
        "from keras.models import load_model\n",
        "LRCN_model = load_model(\"/content/drive/MyDrive/LRCN_model__Date_Time)2025_01_03__16_04_05__Loss_0.45555490255355835__Accuracy_0.8796296119689941.h5\")"
      ]
    },
    {
      "cell_type": "code",
      "execution_count": null,
      "metadata": {
        "collapsed": true,
        "id": "itOxEyLrAtfO"
      },
      "outputs": [],
      "source": [
        "!pip install roboflow\n",
        "\n",
        "from roboflow import Roboflow\n",
        "rf = Roboflow(api_key=\"ITGhU0dOsQulCvRJyoV8\")\n",
        "project = rf.workspace(\"julianaworkspace-lueya\").project(\"mlbb-banners-detection\")\n",
        "version = project.version(4)\n",
        "dataset = version.download(\"yolov8\")"
      ]
    },
    {
      "cell_type": "code",
      "source": [
        "!pip install ultralytics -q\n",
        "\n",
        "from ultralytics import YOLO"
      ],
      "metadata": {
        "id": "NQ-ko5Km3iDJ",
        "collapsed": true
      },
      "execution_count": null,
      "outputs": []
    },
    {
      "cell_type": "code",
      "execution_count": null,
      "metadata": {
        "collapsed": true,
        "id": "ElVWz-CsQTbP"
      },
      "outputs": [],
      "source": [
        "model = YOLO(\"yolov8n.pt\")\n",
        "model.train(\n",
        "    data = \"/content/MLBB-banners-detection-4/data.yaml\" ,\n",
        "    epochs = 10 ,\n",
        "    batch = 16\n",
        ")"
      ]
    },
    {
      "cell_type": "code",
      "execution_count": null,
      "metadata": {
        "id": "86opFrkuITNN"
      },
      "outputs": [],
      "source": [
        "%%capture\n",
        "!pip install moviepy\n",
        "\n",
        "def predict_teamfights(video_file_path, SEQUENCE_LENGTH):\n",
        "    import cv2\n",
        "    import numpy as np\n",
        "    from moviepy.video.io.VideoFileClip import VideoFileClip\n",
        "    from moviepy.video.io.VideoFileClip import VideoFileClip\n",
        "    from collections import deque\n",
        "\n",
        "    video_reader = cv2.VideoCapture(video_file_path)\n",
        "    target_class_name = \"team fight\"\n",
        "\n",
        "    if not video_reader.isOpened():\n",
        "        raise FileNotFoundError(f\"Input video file {video_file_path} could not be opened.\")\n",
        "\n",
        "    fps = video_reader.get(cv2.CAP_PROP_FPS)\n",
        "    frame_count = int(video_reader.get(cv2.CAP_PROP_FRAME_COUNT))\n",
        "    video_duration = frame_count / fps\n",
        "\n",
        "    original_video_width = int(video_reader.get(cv2.CAP_PROP_FRAME_WIDTH))\n",
        "    original_video_height = int(video_reader.get(cv2.CAP_PROP_FRAME_HEIGHT))\n",
        "\n",
        "    frames_queue = deque(maxlen=SEQUENCE_LENGTH)\n",
        "    detected_intervals = []\n",
        "    is_detecting = False\n",
        "    start_time = None\n",
        "\n",
        "    while video_reader.isOpened():\n",
        "        current_frame_pos = video_reader.get(cv2.CAP_PROP_POS_FRAMES)\n",
        "        current_time = current_frame_pos / fps\n",
        "\n",
        "        ok, frame = video_reader.read()\n",
        "        if not ok:\n",
        "            break\n",
        "\n",
        "        resized_frame = cv2.resize(frame, (IMAGE_WIDTH, IMAGE_HEIGHT))\n",
        "        normalized_frame = resized_frame / 255\n",
        "        frames_queue.append(normalized_frame)\n",
        "\n",
        "        if len(frames_queue) == SEQUENCE_LENGTH:\n",
        "            predicted_labels_probabilities = LRCN_model.predict(np.expand_dims(frames_queue, axis=0))[0]\n",
        "            predicted_label = np.argmax(predicted_labels_probabilities)\n",
        "            predicted_class_name = CLASSES_LIST[predicted_label]\n",
        "\n",
        "            if predicted_class_name == target_class_name:\n",
        "                if not is_detecting:\n",
        "                    start_time = current_time\n",
        "                    is_detecting = True\n",
        "            else:\n",
        "                if is_detecting:\n",
        "                    detected_intervals.append((start_time, current_time))\n",
        "                    is_detecting = False\n",
        "\n",
        "    if is_detecting:\n",
        "        detected_intervals.append((start_time, video_duration))\n",
        "\n",
        "    video_reader.release()\n",
        "\n",
        "    return detected_intervals\n"
      ]
    },
    {
      "cell_type": "code",
      "source": [
        "from typing import List, Tuple, Dict\n",
        "import cv2\n",
        "import numpy as np\n",
        "from dataclasses import dataclass\n",
        "from pathlib import Path\n",
        "\n",
        "@dataclass\n",
        "class HighlightSegment:\n",
        "    start_time: float\n",
        "    end_time: float\n",
        "    priority_score: int\n",
        "    banners: List[str]\n",
        "\n",
        "\n",
        "def detect_banners_in_intervals(\n",
        "    video_path: str,\n",
        "    team_fight_intervals: List[Tuple[float, float]],\n",
        "    banner_model: any,\n",
        "    confidence_threshold: float = 0.8,\n",
        "    verbose: bool = False\n",
        ") -> List[HighlightSegment]:\n",
        "    priority_dict = {\n",
        "        'Savage': 13,\n",
        "        'Maniac': 12,\n",
        "        'TripleKill': 11,\n",
        "        'DoubleKill': 10,\n",
        "        'FirstBlood': 9,\n",
        "        'ShutDown': 8,\n",
        "        'Legendary': 7,\n",
        "        'GodLike': 6,\n",
        "        'MonsterKill': 5,\n",
        "        'Unstoppable': 4,\n",
        "        'MegaKill': 3,\n",
        "        'KillingSpree': 2,\n",
        "        'HasSlain': 1,\n",
        "        'WipedOut': 0,\n",
        "        'Destroyed': 0\n",
        "    }\n",
        "\n",
        "    video_reader = cv2.VideoCapture(video_path)\n",
        "    if not video_reader.isOpened():\n",
        "        raise RuntimeError(f\"Failed to open video: {video_path}\")\n",
        "\n",
        "    try:\n",
        "        fps = video_reader.get(cv2.CAP_PROP_FPS)\n",
        "        highlight_segments = []\n",
        "\n",
        "        for interval_idx, (start_time, end_time) in enumerate(team_fight_intervals, 1):\n",
        "            if verbose:\n",
        "                print(f\"\\nProcessing team fight {interval_idx}/{len(team_fight_intervals)}\")\n",
        "\n",
        "            detected_banners = set()\n",
        "            total_priority = 0\n",
        "\n",
        "            start_frame = int(start_time * fps)\n",
        "            end_frame = int(end_time * fps)\n",
        "\n",
        "            video_reader.set(cv2.CAP_PROP_POS_FRAMES, start_frame)\n",
        "\n",
        "            for frame_idx in range(start_frame, end_frame):\n",
        "                ok, frame = video_reader.read()\n",
        "                if not ok:\n",
        "                    break\n",
        "\n",
        "                results = banner_model(frame, verbose=False)\n",
        "\n",
        "                for result in results:\n",
        "                    boxes = result.boxes\n",
        "                    for box in boxes:\n",
        "                        class_name = banner_model.names[int(box.cls[0])]\n",
        "                        confidence = float(box.conf[0])\n",
        "\n",
        "                        if confidence > confidence_threshold:\n",
        "                            if class_name not in detected_banners:\n",
        "                                detected_banners.add(class_name)\n",
        "                                banner_priority = priority_dict.get(class_name, 0)\n",
        "                                total_priority += banner_priority\n",
        "\n",
        "                                if verbose:\n",
        "                                    print(f\"New banner detected: {class_name} \"\n",
        "                                          f\"(Priority: {banner_priority})\")\n",
        "\n",
        "                if verbose and (frame_idx - start_frame) % 30 == 0:\n",
        "                    progress = (frame_idx - start_frame) / (end_frame - start_frame) * 100\n",
        "                    print(f\"Progress: {progress:.1f}%\")\n",
        "\n",
        "            if detected_banners:\n",
        "                interval_duration = end_time - start_time\n",
        "                if interval_duration < 2.0:\n",
        "                    adjusted_start_time = max(0, start_time - 7.0)\n",
        "                    #adjusted_end_time = end_time + 2.00\n",
        "                    if verbose:\n",
        "                        print(f\"Banner detected, but interval too short ({interval_duration:.2f}s). \"\n",
        "                              f\"Adjusting start time from {start_time:.2f}s to {adjusted_start_time:.2f}s\")\n",
        "                    start_time = adjusted_start_time\n",
        "                    #end_time = adjusted_end_time\n",
        "\n",
        "\n",
        "            highlight_segments.append(HighlightSegment(\n",
        "                start_time=start_time,\n",
        "                end_time=end_time,\n",
        "                priority_score=total_priority,\n",
        "                banners=list(detected_banners)\n",
        "            ))\n",
        "\n",
        "        #highlight_segments.sort(key=lambda x: x.priority_score, reverse=True)\n",
        "\n",
        "        if verbose:\n",
        "            print(\"\\nHighlight Summary:\")\n",
        "            for i, segment in enumerate(highlight_segments, 1):\n",
        "                print(f\"\\nHighlight {i}:\")\n",
        "                print(f\"Time: {segment.start_time:.2f}s - {segment.end_time:.2f}s\")\n",
        "                print(f\"Priority Score: {segment.priority_score}\")\n",
        "                print(\"Banners Detected:\")\n",
        "                for banner in segment.banners:\n",
        "                    print(f\"  - {banner}\")\n",
        "                print(f\"Duration: {segment.end_time - segment.start_time:.2f}s\")\n",
        "\n",
        "        return highlight_segments\n",
        "\n",
        "    finally:\n",
        "        video_reader.release()"
      ],
      "metadata": {
        "id": "sQ2WZ-3GGq8a"
      },
      "execution_count": null,
      "outputs": []
    },
    {
      "cell_type": "code",
      "source": [
        "def create_highlight_video(\n",
        "    video_path: str,\n",
        "    highlight_segments: List[HighlightSegment],\n",
        "    output_path: str,\n",
        "    min_priority_score: int = 1\n",
        ") -> None:\n",
        "\n",
        "    from moviepy.video.io.VideoFileClip import VideoFileClip\n",
        "    from moviepy.editor import concatenate_videoclips\n",
        "    from moviepy.editor import concatenate_videoclips, VideoFileClip\n",
        "\n",
        "    valid_segments = [seg for seg in highlight_segments if seg.priority_score >= min_priority_score]\n",
        "\n",
        "    if not valid_segments:\n",
        "        print(\"No highlights meet the minimum priority score requirement.\")\n",
        "        return\n",
        "\n",
        "    with VideoFileClip(video_path) as video:\n",
        "        clips = []\n",
        "\n",
        "        print(\"\\nCreating highlight video with the following segments:\")\n",
        "        for i, segment in enumerate(valid_segments, 1):\n",
        "            print(f\"\\nClip {i}:\")\n",
        "            print(f\"Time: {segment.start_time:.2f}s - {segment.end_time:.2f}s\")\n",
        "            print(f\"Priority Score: {segment.priority_score}\")\n",
        "            print(\"Banners:\", \", \".join(segment.banners))\n",
        "\n",
        "            clip = video.subclip(segment.start_time, segment.end_time)\n",
        "            clips.append(clip)\n",
        "\n",
        "        final_video = concatenate_videoclips(clips)\n",
        "        final_video.write_videofile(\n",
        "            output_path,\n",
        "            codec=\"libx264\",\n",
        "            verbose=False,\n",
        "            logger=None\n",
        "        )\n",
        "\n",
        "    print(f\"\\nHighlight video saved to: {output_path}\")"
      ],
      "metadata": {
        "id": "CQ6pPuLDe5j_"
      },
      "execution_count": null,
      "outputs": []
    },
    {
      "cell_type": "code",
      "execution_count": null,
      "metadata": {
        "id": "2My7K8lSnFxW",
        "collapsed": true
      },
      "outputs": [],
      "source": [
        "%%capture\n",
        "\n",
        "input_video_path=\"/content/drive/MyDrive/ML input vids/Game ML - 2.mp4\"\n",
        "SEQUENCE_LENGTH = 30\n",
        "\n",
        "detected_teamfights = predict_teamfights(input_video_path, SEQUENCE_LENGTH)"
      ]
    },
    {
      "cell_type": "code",
      "source": [
        "print (detected_teamfights)"
      ],
      "metadata": {
        "id": "dQ_l3nQMXOJ-"
      },
      "execution_count": null,
      "outputs": []
    },
    {
      "cell_type": "code",
      "source": [
        "banner_model = YOLO(\"/content/drive/MyDrive/runs/detect/train/weights/best.pt\")\n",
        "\n",
        "\n",
        "highlight_segments = detect_banners_in_intervals(\n",
        "    video_path=\"/content/drive/MyDrive/ML input vids/Game ML - 3.mp4\",\n",
        "    team_fight_intervals=detected_teamfights,\n",
        "    banner_model=banner_model,\n",
        "    verbose=True\n",
        ")"
      ],
      "metadata": {
        "collapsed": true,
        "id": "GN8hKb_1IWuD"
      },
      "execution_count": null,
      "outputs": []
    },
    {
      "cell_type": "code",
      "source": [
        "create_highlight_video(\n",
        "    video_path=\"/content/drive/MyDrive/ML input vids/Game ML - 3.mp4\",\n",
        "    highlight_segments=highlight_segments,\n",
        "    output_path=\"GAME ML 3_highlights_minPriority15.mp4\",\n",
        "    min_priority_score= 15\n",
        ")"
      ],
      "metadata": {
        "id": "9QE7ONz8fLnM"
      },
      "execution_count": null,
      "outputs": []
    }
  ],
  "metadata": {
    "accelerator": "GPU",
    "colab": {
      "gpuType": "T4",
      "provenance": [],
      "include_colab_link": true
    },
    "kernelspec": {
      "display_name": "Python 3",
      "name": "python3"
    },
    "language_info": {
      "name": "python"
    }
  },
  "nbformat": 4,
  "nbformat_minor": 0
}